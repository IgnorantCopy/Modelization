{
 "cells": [
  {
   "metadata": {},
   "cell_type": "markdown",
   "source": "## 线性规划",
   "id": "d4c53691c5c6cb49"
  },
  {
   "cell_type": "code",
   "id": "initial_id",
   "metadata": {
    "collapsed": true,
    "ExecuteTime": {
     "end_time": "2024-09-03T13:29:32.098695Z",
     "start_time": "2024-09-03T13:29:31.457012Z"
    }
   },
   "source": [
    "import numpy as np\n",
    "import pulp\n",
    "from scipy.optimize import linprog\n",
    "'''\n",
    "min 2 * x1 + 3 * x2 + x3\n",
    "s.t.\n",
    "    x1 + 4 * x2 + 2 * x3 >= 8\n",
    "    3 * x1 + 2 * x2 >= 6\n",
    "    x1, x2, x3 >= 0\n",
    "'''\n",
    "c = np.array([2, 3, 1])\n",
    "A = np.array([\n",
    "    [-1, -4, -2],\n",
    "    [-3, -2, 0]\n",
    "])\n",
    "b = np.array([-8, -6])\n",
    "'''\n",
    "linprog(c, A_ub=None, b_ub=None, A_eq=None, b_eq=None, bounds=(0, None))\n",
    "ub: upper bound constraints\n",
    "eq: equality constraints\n",
    "bounds: range of variables, (0, None) means >= 0\n",
    "'''\n",
    "results = linprog(c, A_ub=A, b_ub=b)\n",
    "print(results)"
   ],
   "outputs": [
    {
     "name": "stdout",
     "output_type": "stream",
     "text": [
      "        message: Optimization terminated successfully. (HiGHS Status 7: Optimal)\n",
      "        success: True\n",
      "         status: 0\n",
      "            fun: 7.0\n",
      "              x: [ 8.000e-01  1.800e+00  0.000e+00]\n",
      "            nit: 3\n",
      "          lower:  residual: [ 8.000e-01  1.800e+00  0.000e+00]\n",
      "                 marginals: [ 0.000e+00  0.000e+00  0.000e+00]\n",
      "          upper:  residual: [       inf        inf        inf]\n",
      "                 marginals: [ 0.000e+00  0.000e+00  0.000e+00]\n",
      "          eqlin:  residual: []\n",
      "                 marginals: []\n",
      "        ineqlin:  residual: [ 0.000e+00  0.000e+00]\n",
      "                 marginals: [-5.000e-01 -5.000e-01]\n",
      " mip_node_count: 0\n",
      " mip_dual_bound: 0.0\n",
      "        mip_gap: 0.0\n"
     ]
    }
   ],
   "execution_count": 2
  },
  {
   "metadata": {
    "ExecuteTime": {
     "end_time": "2024-09-03T13:29:33.439468Z",
     "start_time": "2024-09-03T13:29:32.100702Z"
    }
   },
   "cell_type": "code",
   "source": [
    "# 例 1.1\n",
    "from matplotlib import pyplot as plt\n",
    "import pandas as pd\n",
    "r = [0.05, 0.28, 0.21, 0.23, 0.25]\n",
    "q = [0, 0.025, 0.015, 0.055, 0.026]\n",
    "p = [0, 0.01, 0.02, 0.045, 0.065]\n",
    "M = 1"
   ],
   "id": "51729711f7d0d024",
   "outputs": [],
   "execution_count": 3
  },
  {
   "metadata": {
    "ExecuteTime": {
     "end_time": "2024-09-03T13:29:33.628693Z",
     "start_time": "2024-09-03T13:29:33.441026Z"
    }
   },
   "cell_type": "code",
   "source": [
    "# 法一\n",
    "c = np.array([i - j for i, j in zip(p, r)])\n",
    "A_ub = np.diag(q)\n",
    "A_eq = np.array([[i + 1 for i in p]])\n",
    "b_eq = np.array([M])\n",
    "a = 0\n",
    "results = []\n",
    "x0 = []\n",
    "x1 = []\n",
    "x2 = []\n",
    "x3 = []\n",
    "x4 = []\n",
    "while a < 0.05:\n",
    "    b_ub = np.array([[a], [a], [a], [a], [a]])\n",
    "    result = linprog(c, A_ub=A_ub, b_ub=b_ub, A_eq=A_eq, b_eq=b_eq)\n",
    "    results.append(result['fun'])\n",
    "    x0.append(result['x'][0])\n",
    "    x1.append(result['x'][1])\n",
    "    x2.append(result['x'][2])\n",
    "    x3.append(result['x'][3])\n",
    "    x4.append(result['x'][4])\n",
    "    a += 0.001\n",
    "x = np.array([0.001 * i for i in range(0, 50)])\n",
    "y = np.array([-i for i in results])\n",
    "plt.plot(x, y, 'o')\n",
    "plt.show()\n",
    "data = {\n",
    "    'a': [0.001 * i for i in range(0, 50)],\n",
    "    'x0': x0,\n",
    "    'x1': x1,\n",
    "    'x2': x2,\n",
    "    'x3': x3,\n",
    "    'x4': x4,\n",
    "    'income': [-i for i in results]\n",
    "}\n",
    "df = pd.DataFrame(data)\n",
    "print(df)"
   ],
   "id": "dde8daadbf7291b8",
   "outputs": [
    {
     "data": {
      "text/plain": [
       "<Figure size 640x480 with 1 Axes>"
      ],
      "image/png": "[encoded data removed]"
     },
     "metadata": {},
     "output_type": "display_data"
    },
    {
     "name": "stdout",
     "output_type": "stream",
     "text": [
      "        a        x0        x1        x2        x3        x4    income\n",
      "0   0.000  1.000000 -0.000000 -0.000000 -0.000000 -0.000000  0.050000\n",
      "1   0.001  0.831638  0.040000  0.066667  0.018182  0.038462  0.075528\n",
      "2   0.002  0.663277  0.080000  0.133333  0.036364  0.076923  0.101055\n",
      "3   0.003  0.494915  0.120000  0.200000  0.054545  0.115385  0.126583\n",
      "4   0.004  0.326554  0.160000  0.266667  0.072727  0.153846  0.152110\n",
      "5   0.005  0.158192  0.200000  0.333333  0.090909  0.192308  0.177638\n",
      "6   0.006  0.000000  0.240000  0.400000  0.109091  0.221221  0.201908\n",
      "7   0.007  0.000000  0.280000  0.466667  0.127273  0.101596  0.206607\n",
      "8   0.008  0.000000  0.320000  0.533333  0.127081  0.000000  0.211243\n",
      "9   0.009  0.000000  0.360000  0.600000  0.023349  0.000000  0.215520\n",
      "10  0.010  0.000000  0.400000  0.584314  0.000000  0.000000  0.219020\n",
      "11  0.011  0.000000  0.440000  0.544706  0.000000  0.000000  0.222294\n",
      "12  0.012  0.000000  0.480000  0.505098  0.000000  0.000000  0.225569\n",
      "13  0.013  0.000000  0.520000  0.465490  0.000000  0.000000  0.228843\n",
      "14  0.014  0.000000  0.560000  0.425882  0.000000  0.000000  0.232118\n",
      "15  0.015  0.000000  0.600000  0.386275  0.000000  0.000000  0.235392\n",
      "16  0.016  0.000000  0.640000  0.346667  0.000000  0.000000  0.238667\n",
      "17  0.017  0.000000  0.680000  0.307059  0.000000  0.000000  0.241941\n",
      "18  0.018  0.000000  0.720000  0.267451  0.000000  0.000000  0.245216\n",
      "19  0.019  0.000000  0.760000  0.227843  0.000000  0.000000  0.248490\n",
      "20  0.020  0.000000  0.800000  0.188235  0.000000  0.000000  0.251765\n",
      "21  0.021  0.000000  0.840000  0.148627  0.000000  0.000000  0.255039\n",
      "22  0.022  0.000000  0.880000  0.109020  0.000000  0.000000  0.258314\n",
      "23  0.023  0.000000  0.920000  0.069412  0.000000  0.000000  0.261588\n",
      "24  0.024  0.000000  0.960000  0.029804  0.000000  0.000000  0.264863\n",
      "25  0.025  0.000000  0.990099  0.000000  0.000000  0.000000  0.267327\n",
      "26  0.026  0.000000  0.990099  0.000000  0.000000  0.000000  0.267327\n",
      "27  0.027  0.000000  0.990099  0.000000  0.000000  0.000000  0.267327\n",
      "28  0.028  0.000000  0.990099  0.000000  0.000000  0.000000  0.267327\n",
      "29  0.029  0.000000  0.990099  0.000000  0.000000  0.000000  0.267327\n",
      "30  0.030  0.000000  0.990099  0.000000  0.000000  0.000000  0.267327\n",
      "31  0.031  0.000000  0.990099  0.000000  0.000000  0.000000  0.267327\n",
      "32  0.032  0.000000  0.990099  0.000000  0.000000  0.000000  0.267327\n",
      "33  0.033  0.000000  0.990099  0.000000  0.000000  0.000000  0.267327\n",
      "34  0.034  0.000000  0.990099  0.000000  0.000000  0.000000  0.267327\n",
      "35  0.035  0.000000  0.990099  0.000000  0.000000  0.000000  0.267327\n",
      "36  0.036  0.000000  0.990099  0.000000  0.000000  0.000000  0.267327\n",
      "37  0.037  0.000000  0.990099  0.000000  0.000000  0.000000  0.267327\n",
      "38  0.038  0.000000  0.990099  0.000000  0.000000  0.000000  0.267327\n",
      "39  0.039  0.000000  0.990099  0.000000  0.000000  0.000000  0.267327\n",
      "40  0.040  0.000000  0.990099  0.000000  0.000000  0.000000  0.267327\n",
      "41  0.041  0.000000  0.990099  0.000000  0.000000  0.000000  0.267327\n",
      "42  0.042  0.000000  0.990099  0.000000  0.000000  0.000000  0.267327\n",
      "43  0.043  0.000000  0.990099  0.000000  0.000000  0.000000  0.267327\n",
      "44  0.044  0.000000  0.990099  0.000000  0.000000  0.000000  0.267327\n",
      "45  0.045  0.000000  0.990099  0.000000  0.000000  0.000000  0.267327\n",
      "46  0.046  0.000000  0.990099  0.000000  0.000000  0.000000  0.267327\n",
      "47  0.047  0.000000  0.990099  0.000000  0.000000  0.000000  0.267327\n",
      "48  0.048  0.000000  0.990099  0.000000  0.000000  0.000000  0.267327\n",
      "49  0.049  0.000000  0.990099  0.000000  0.000000  0.000000  0.267327\n"
     ]
    }
   ],
   "execution_count": 4
  },
  {
   "metadata": {},
   "cell_type": "markdown",
   "source": "## 整数规划",
   "id": "b1f67a36df0c32a9"
  },
  {
   "metadata": {},
   "cell_type": "markdown",
   "source": "### 分支定界法",
   "id": "5c148e8732249774"
  },
  {
   "metadata": {},
   "cell_type": "markdown",
   "source": [
    "min 3 * x1 + 4 * x2 + x3\n",
    "\n",
    "s.t.\n",
    "\n",
    "    x1 + 6 * x2 + 2 * x3 >= 5\n",
    "    2 * x1 >= 3\n",
    "    x1, x2, x3 >= 0 且为整数"
   ],
   "id": "3e329d09d73b8e6a"
  },
  {
   "metadata": {
    "ExecuteTime": {
     "end_time": "2024-09-03T13:29:33.659989Z",
     "start_time": "2024-09-03T13:29:33.631702Z"
    }
   },
   "cell_type": "code",
   "source": [
    "# 法一：scipy.optimize.linprog\n",
    "import numpy as np\n",
    "import math\n",
    "import sys\n",
    "from scipy.optimize import linprog\n",
    "\n",
    "c = [3, 4, 1]\n",
    "A_ub = [\n",
    "    [-1, -6, -2],\n",
    "    [-2, 0, 0],\n",
    "]\n",
    "b_ub = [-5, -3]\n",
    "A_eq = [[0, 0, 0]]\n",
    "b_eq = [0]\n",
    "\n",
    "\n",
    "def integer_prog(c, A_ub, b_ub, A_eq, b_eq, e=1.0e-8):\n",
    "    result = linprog(np.array(c), A_ub=np.array(A_ub), b_ub=np.array(b_ub), A_eq=np.array(A_eq), b_eq=np.array(b_eq))\n",
    "    best_value = sys.maxsize\n",
    "    best_x = result['x']\n",
    "    if not (type(result['x']) is float or result['status'] != 0):\n",
    "        best_value = sum([i * j for i, j in zip(c, best_x)])\n",
    "    if all(((i - math.floor(i)) <= e or (math.ceil(i) - i) <= e) for i in best_x):\n",
    "        return (best_value, best_x)\n",
    "    else:\n",
    "        index = [i for i, x in enumerate(best_x) if (x - math.floor(x) > e and (math.ceil(x) - x) > e)][0]\n",
    "        new_constraints1 = [0] * len(c)\n",
    "        new_constraints2 = [0] * len(c)\n",
    "        new_constraints1[index] = -1\n",
    "        new_constraints2[index] = 1\n",
    "        new_A_ub1 = A_ub.copy()\n",
    "        new_A_ub2 = A_ub.copy()\n",
    "        new_A_ub1.append(new_constraints1)\n",
    "        new_A_ub2.append(new_constraints2)\n",
    "        new_b_ub1 = b_ub.copy()\n",
    "        new_b_ub2 = b_ub.copy()\n",
    "        new_b_ub1.append(-math.ceil(best_x[index]))\n",
    "        new_b_ub2.append(math.floor(best_x[index]))\n",
    "        result1 = integer_prog(c, new_A_ub1, new_b_ub1, A_eq, b_eq, e)\n",
    "        result2 = integer_prog(c, new_A_ub1, new_b_ub1, A_eq, b_eq, e)\n",
    "        return result1 if result1[0] < result2[0] else result2\n",
    "\n",
    "print(integer_prog(c, A_ub, b_ub, A_eq, b_eq))"
   ],
   "id": "8ba6140ae1522c8a",
   "outputs": [
    {
     "name": "stdout",
     "output_type": "stream",
     "text": [
      "(np.float64(8.0), array([2., 0., 2.]))\n"
     ]
    }
   ],
   "execution_count": 5
  },
  {
   "metadata": {
    "ExecuteTime": {
     "end_time": "2024-09-03T13:29:33.707349Z",
     "start_time": "2024-09-03T13:29:33.662238Z"
    }
   },
   "cell_type": "code",
   "source": [
    "# 法二：Pulp\n",
    "import pulp as pp\n",
    "\n",
    "c = [3, 4, 1]\n",
    "# gq: greater or equal\n",
    "A_gq = [\n",
    "    [1, 6, 2],\n",
    "    [2, 0, 0]\n",
    "]\n",
    "b_gq = [5, 3]\n",
    "model = pp.LpProblem(sense=pp.LpMinimize)   # 确定求最大值还是最小值\n",
    "x = [pp.LpVariable(f'x{i}', lowBound=0, cat='Integer') for i in [1, 2, 3]]  # 定义决策变量\n",
    "model += pp.lpDot(c, x)  # 定义目标函数（lpDot是点积）\n",
    "# 设置约束条件\n",
    "for i in range(len(A_gq)):\n",
    "    model += (pp.lpDot(A_gq[i], x) >= b_gq[i])\n",
    "model.solve()  # 调用求解器\n",
    "print(f'value: {pp.value(model.objective)}')\n",
    "print(f'x: {[pp.value(i) for i in x]}')"
   ],
   "id": "26c3f72853bf15a1",
   "outputs": [
    {
     "name": "stdout",
     "output_type": "stream",
     "text": [
      "value: 8.0\n",
      "x: [2.0, 0.0, 2.0]\n"
     ]
    }
   ],
   "execution_count": 6
  },
  {
   "metadata": {},
   "cell_type": "markdown",
   "source": "### 割平面法",
   "id": "8f7e2f5dc13a2871"
  },
  {
   "metadata": {
    "ExecuteTime": {
     "end_time": "2024-09-03T13:29:33.723389Z",
     "start_time": "2024-09-03T13:29:33.709354Z"
    }
   },
   "cell_type": "code",
   "source": [
    "import numpy as np\n",
    "import math\n",
    "from scipy.optimize import linprog\n",
    "\n",
    "c = np.array([-20, -14, -16, -36, -32, -30, 0, 0, 0, 0])\n",
    "A_eq = np.array([\n",
    "    [0.01, 0.01, 0.01, 0.03, 0.03, 0.03, 0.01, 0, 0, 0],\n",
    "    [0.02, 0, 0, 0.05, 0, 0, 0, 0.01, 0, 0],\n",
    "    [0, 0.02, 0, 0, 0.05, 0, 0, 0, 0.01, 0],\n",
    "    [0, 0, 0.03, 0, 0, 0.08, 0, 0, 0, 0.01],\n",
    "])\n",
    "b_eq = np.array([850, 700, 100, 900])\n",
    "\n",
    "\n",
    "def integer_cutting_plane(c, A_eq, b_eq, e=1.0e-8):\n",
    "    while True:\n",
    "        result = linprog(c, A_eq=A_eq, b_eq=b_eq)\n",
    "        x = result['x']\n",
    "        # 判断是否为整数\n",
    "        if all(((i - math.floor(i)) <= e or (math.ceil(i) - i) <= e) for i in x):\n",
    "            return x\n",
    "        # 添加割平面\n",
    "        new_constraint = (A_eq @ x <= b_eq)\n",
    "        A_eq = np.vstack((A_eq, new_constraint))\n",
    "        b_eq = np.append(b_eq, np.floor(A_eq @ x))\n",
    "\n",
    "print(integer_cutting_plane(c, A_eq, b_eq))"
   ],
   "id": "73aaa5d955266d51",
   "outputs": [
    {
     "name": "stdout",
     "output_type": "stream",
     "text": [
      "[35000.  5000. 30000.     0.     0.     0. 15000.     0.     0.     0.]\n"
     ]
    }
   ],
   "execution_count": 7
  },
  {
   "metadata": {},
   "cell_type": "markdown",
   "source": "### 匈牙利算法",
   "id": "738595c7385e7366"
  },
  {
   "metadata": {
    "ExecuteTime": {
     "end_time": "2024-09-03T13:29:33.755124Z",
     "start_time": "2024-09-03T13:29:33.725395Z"
    }
   },
   "cell_type": "code",
   "source": [
    "# 投资问题\n",
    "import pulp as pp\n",
    "invest = pp.LpProblem(\"Invest_decision_problem\", sense=pp.LpMaximize)     # 定义问题\n",
    "# 定义决策变量\n",
    "x1 = pp.LpVariable('A', cat='Binary')\n",
    "x2 = pp.LpVariable('B', cat='Binary')\n",
    "x3 = pp.LpVariable('C', cat='Binary')\n",
    "x4 = pp.LpVariable('D', cat='Binary')\n",
    "x5 = pp.LpVariable('E', cat='Binary')\n",
    "invest += (150 * x1 + 210 * x2 + 60 * x3 + 80 * x4 + 180 * x5)      # 添加目标函数\n",
    "# 添加约束条件\n",
    "invest += (210 * x1 + 300 * x2 + 150 * x3 + 130 * x4 + 260 * x5 <= 600)\n",
    "invest += (x1 + x2 + x3 == 1)\n",
    "invest += (x3 + x4 == 1)\n",
    "invest += (x5 - x1 <= 0)\n",
    "invest.solve()\n",
    "\n",
    "print(invest.name)\n",
    "print(f'status: {pp.LpStatus[invest.status]}')\n",
    "for i in invest.variables():\n",
    "    print(f'{i.name} = {i.varValue}')\n",
    "print(f'value = {pp.value(invest.objective)}')"
   ],
   "id": "cf80e58d0c1fc4ec",
   "outputs": [
    {
     "name": "stdout",
     "output_type": "stream",
     "text": [
      "Invest_decision_problem\n",
      "status: Optimal\n",
      "A = 1.0\n",
      "B = 0.0\n",
      "C = 0.0\n",
      "D = 1.0\n",
      "E = 1.0\n",
      "value = 410.0\n"
     ]
    }
   ],
   "execution_count": 8
  },
  {
   "metadata": {
    "ExecuteTime": {
     "end_time": "2024-09-03T13:29:33.771437Z",
     "start_time": "2024-09-03T13:29:33.756507Z"
    }
   },
   "cell_type": "code",
   "source": "",
   "id": "467f35c3edd85bb7",
   "outputs": [],
   "execution_count": 8
  },
  {
   "metadata": {
    "ExecuteTime": {
     "end_time": "2024-09-03T13:29:33.802576Z",
     "start_time": "2024-09-03T13:29:33.773440Z"
    }
   },
   "cell_type": "code",
   "source": [
    "# 固定费用问题\n",
    "import pulp as pp\n",
    "fixed_cost = pp.LpProblem(\"fixed_cost_problem\", sense=pp.LpMaximize)\n",
    "x1 = pp.LpVariable('x1', lowBound=0, cat='Integer')\n",
    "x2 = pp.LpVariable('x2', lowBound=0, cat='Integer')\n",
    "x3 = pp.LpVariable('x3', lowBound=0, cat='Integer')\n",
    "y1 = pp.LpVariable('y1', cat='Binary')\n",
    "y2 = pp.LpVariable('y2', cat='Binary')\n",
    "y3 = pp.LpVariable('y3', cat='Binary')\n",
    "fixed_cost += (150 * x1 + 220 * x2 + 300 * x3 - 200000 * y1 - 150000 * y2 - 100000 * y3)\n",
    "fixed_cost += (3 * x1 + 2 * x2 + 6 * x3 <= 8200)\n",
    "fixed_cost += (0.8 * x1 + 1.1 * x2 + 1.5 * x3 <= 8800)\n",
    "fixed_cost += (x1 - 2800 * y1 <= 0)\n",
    "fixed_cost += (x2 - 4100 * y2 <= 0)\n",
    "fixed_cost += (x3 - 1400 * y3 <= 0)\n",
    "fixed_cost.solve()\n",
    "\n",
    "print(fixed_cost.name)\n",
    "if pp.LpStatus[fixed_cost.status] == 'Optimal':\n",
    "    for i in fixed_cost.variables():\n",
    "        print(f'{i.name} = {i.varValue}')\n",
    "    print(f'value = {pp.value(fixed_cost.objective)}')"
   ],
   "id": "f8d73df40b104e1e",
   "outputs": [
    {
     "name": "stdout",
     "output_type": "stream",
     "text": [
      "fixed_cost_problem\n",
      "x1 = 0.0\n",
      "x2 = 4100.0\n",
      "x3 = 0.0\n",
      "y1 = 0.0\n",
      "y2 = 1.0\n",
      "y3 = 0.0\n",
      "value = 752000.0\n"
     ]
    }
   ],
   "execution_count": 9
  },
  {
   "metadata": {
    "ExecuteTime": {
     "end_time": "2024-09-03T13:29:33.817808Z",
     "start_time": "2024-09-03T13:29:33.806058Z"
    }
   },
   "cell_type": "code",
   "source": [
    "# 指派问题\n",
    "from scipy.optimize import linear_sum_assignment\n",
    "import numpy as np\n",
    "\n",
    "C = np.array([\n",
    "    [2, 15, 13, 4],\n",
    "    [10, 4, 14, 15],\n",
    "    [9, 14, 16, 13],\n",
    "    [7, 8, 11, 9]\n",
    "])\n",
    "row_ind, col_ind = linear_sum_assignment(C)\n",
    "sum = 0\n",
    "for i, j in zip(row_ind, col_ind):\n",
    "    print(f'工人{i+1}被指派到项目{j+1}')\n",
    "    sum += C[i, j]\n",
    "print(f'总成本为{sum}')"
   ],
   "id": "7333c5405dff9cd",
   "outputs": [
    {
     "name": "stdout",
     "output_type": "stream",
     "text": [
      "工人1被指派到项目4\n",
      "工人2被指派到项目2\n",
      "工人3被指派到项目1\n",
      "工人4被指派到项目3\n",
      "总成本为28\n"
     ]
    }
   ],
   "execution_count": 10
  },
  {
   "metadata": {},
   "cell_type": "markdown",
   "source": "## 非线性规划",
   "id": "86c3e237ef64a9c1"
  },
  {
   "metadata": {
    "ExecuteTime": {
     "end_time": "2024-09-03T13:29:33.833006Z",
     "start_time": "2024-09-03T13:29:33.820250Z"
    }
   },
   "cell_type": "code",
   "source": [
    "from scipy.optimize import minimize\n",
    "import numpy as np\n",
    "'''\n",
    "minimize(fun, x0, args=(), method=None, jac=None, hess=None, hessp=None, bounds=None, constraints=(), tol=None, callback=None, options=None)\n",
    "fun: 目标函数   fun(x, *args)    x: 1-D array with shape (n,)\n",
    "x0: 初始值     ndarray with shape (n,)\n",
    "args: 目标函数参数\n",
    "method: 优化方法\n",
    "    - 'Nelder-Mead' :ref:`(see here) <optimize.minimize-neldermead>`\n",
    "    - 'Powell'      :ref:`(see here) <optimize.minimize-powell>`\n",
    "    - 'CG'          :ref:`(see here) <optimize.minimize-cg>`\n",
    "    - 'BFGS'        :ref:`(see here) <optimize.minimize-bfgs>`\n",
    "    - 'Newton-CG'   :ref:`(see here) <optimize.minimize-newtoncg>`\n",
    "    - 'L-BFGS-B'    :ref:`(see here) <optimize.minimize-lbfgsb>`\n",
    "    - 'TNC'         :ref:`(see here) <optimize.minimize-tnc>`\n",
    "    - 'COBYLA'      :ref:`(see here) <optimize.minimize-cobyla>`\n",
    "    - 'SLSQP'       :ref:`(see here) <optimize.minimize-slsqp>`\n",
    "    - 'trust-constr':ref:`(see here) <optimize.minimize-trustconstr>`\n",
    "    - 'dogleg'      :ref:`(see here) <optimize.minimize-dogleg>`\n",
    "    - 'trust-ncg'   :ref:`(see here) <optimize.minimize-trustncg>`\n",
    "    - 'trust-exact' :ref:`(see here) <optimize.minimize-trustexact>`\n",
    "    - 'trust-krylov' :ref:`(see here) <optimize.minimize-trustkrylov>`\n",
    "    - custom - a callable object, see below for description.\n",
    "\n",
    "    If not given, chosen to be one of ``BFGS``, ``L-BFGS-B``, ``SLSQP``,\n",
    "    depending on whether or not the problem has constraints or bounds.\n",
    "jac: 目标函数的梯度\n",
    "hess: 目标函数的海森矩阵\n",
    "hessp: 目标函数的海森矩阵的海森矩阵\n",
    "bounds: 变量的边界\n",
    "constraints: 约束条件 dict or list of dicts\n",
    "    {\n",
    "    'type': str    \"eq\" for equation, \"ineq\" for inequality constrains (SLSQP 是 >=)\n",
    "    'fun': function\n",
    "    }\n",
    "tol: 误差容忍度\n",
    "callback: 回调函数\n",
    "options: 优化选项\n",
    "'''"
   ],
   "id": "94f86ebab667849d",
   "outputs": [
    {
     "data": {
      "text/plain": [
       "'\\nminimize(fun, x0, args=(), method=None, jac=None, hess=None, hessp=None, bounds=None, constraints=(), tol=None, callback=None, options=None)\\nfun: 目标函数   fun(x, *args)    x: 1-D array with shape (n,)\\nx0: 初始值     ndarray with shape (n,)\\nargs: 目标函数参数\\nmethod: 优化方法\\n    - \\'Nelder-Mead\\' :ref:`(see here) <optimize.minimize-neldermead>`\\n    - \\'Powell\\'      :ref:`(see here) <optimize.minimize-powell>`\\n    - \\'CG\\'          :ref:`(see here) <optimize.minimize-cg>`\\n    - \\'BFGS\\'        :ref:`(see here) <optimize.minimize-bfgs>`\\n    - \\'Newton-CG\\'   :ref:`(see here) <optimize.minimize-newtoncg>`\\n    - \\'L-BFGS-B\\'    :ref:`(see here) <optimize.minimize-lbfgsb>`\\n    - \\'TNC\\'         :ref:`(see here) <optimize.minimize-tnc>`\\n    - \\'COBYLA\\'      :ref:`(see here) <optimize.minimize-cobyla>`\\n    - \\'SLSQP\\'       :ref:`(see here) <optimize.minimize-slsqp>`\\n    - \\'trust-constr\\':ref:`(see here) <optimize.minimize-trustconstr>`\\n    - \\'dogleg\\'      :ref:`(see here) <optimize.minimize-dogleg>`\\n    - \\'trust-ncg\\'   :ref:`(see here) <optimize.minimize-trustncg>`\\n    - \\'trust-exact\\' :ref:`(see here) <optimize.minimize-trustexact>`\\n    - \\'trust-krylov\\' :ref:`(see here) <optimize.minimize-trustkrylov>`\\n    - custom - a callable object, see below for description.\\n\\n    If not given, chosen to be one of ``BFGS``, ``L-BFGS-B``, ``SLSQP``,\\n    depending on whether or not the problem has constraints or bounds.\\njac: 目标函数的梯度\\nhess: 目标函数的海森矩阵\\nhessp: 目标函数的海森矩阵的海森矩阵\\nbounds: 变量的边界\\nconstraints: 约束条件 dict or list of dicts\\n    {\\n    \\'type\\': str    \"eq\" for equation, \"ineq\" for inequality constrains (SLSQP 是 >=)\\n    \\'fun\\': function\\n    }\\ntol: 误差容忍度\\ncallback: 回调函数\\noptions: 优化选项\\n'"
      ]
     },
     "execution_count": 11,
     "metadata": {},
     "output_type": "execute_result"
    }
   ],
   "execution_count": 11
  },
  {
   "metadata": {
    "ExecuteTime": {
     "end_time": "2024-09-03T13:29:33.848946Z",
     "start_time": "2024-09-03T13:29:33.834482Z"
    }
   },
   "cell_type": "code",
   "source": [
    "'''\n",
    "min (2 + x1) / (1 + x2) - 3 * x1 + 4 * x3\n",
    "s.t. 0.1 <= xi <= 0.9, i = 1, 2, 3\n",
    "'''\n",
    "def fun(x):\n",
    "    x1, x2, x3 = x\n",
    "    return (2 + x1) / (1 + x2) - 3 * x1 + 4 * x3\n",
    "\n",
    "\n",
    "lb = [0.1] * 3\n",
    "ub = [0.9] * 3\n",
    "bounds = tuple(zip(lb, ub))\n",
    "result = minimize(fun, np.ones(3), bounds=bounds)\n",
    "print(result)"
   ],
   "id": "e79ea1e4e032eea1",
   "outputs": [
    {
     "name": "stdout",
     "output_type": "stream",
     "text": [
      "  message: CONVERGENCE: NORM_OF_PROJECTED_GRADIENT_<=_PGTOL\n",
      "  success: True\n",
      "   status: 0\n",
      "      fun: -0.7736842105263159\n",
      "        x: [ 9.000e-01  9.000e-01  1.000e-01]\n",
      "      nit: 1\n",
      "      jac: [-2.474e+00 -8.033e-01  4.000e+00]\n",
      "     nfev: 8\n",
      "     njev: 2\n",
      " hess_inv: <3x3 LbfgsInvHessProduct with dtype=float64>\n"
     ]
    }
   ],
   "execution_count": 12
  },
  {
   "metadata": {
    "ExecuteTime": {
     "end_time": "2024-09-03T13:29:33.864463Z",
     "start_time": "2024-09-03T13:29:33.850441Z"
    }
   },
   "cell_type": "code",
   "source": [
    "'''\n",
    "min x1 ** 2 + x2 ** 2 + x3 ** 2 + 8\n",
    "s.t.\n",
    "    x1 ** 2 - x2 + x3 ** 2 >= 0\n",
    "    x1 + x2 ** 2 + x3 ** 2 <= 20\n",
    "    -x1 - x2 ** 2 + 2 = 0\n",
    "    x2 + 2 * x3 ** 2 = 3\n",
    "    x1, x2, x3 >= 0\n",
    "'''\n",
    "H = np.diag([1, 1, 1])\n",
    "fun = lambda x: x.T @ H @ x + 8\n",
    "constrains = [\n",
    "    {\n",
    "        'type': 'ineq',\n",
    "        'fun': lambda x: x[0] ** 2 - x[1] + x[2] ** 2,\n",
    "    },\n",
    "    {\n",
    "        'type': 'ineq',\n",
    "        'fun': lambda x: 20 - x[0] - x[1] ** 2 - x[2] ** 2,\n",
    "    },\n",
    "    {\n",
    "        'type': 'eq',\n",
    "        'fun': lambda x: -x[0] - x[1] ** 2 + 2,\n",
    "    },\n",
    "    {\n",
    "        'type': 'eq',\n",
    "        'fun': lambda x: x[1] + 2 * x[2] ** 2 - 3,\n",
    "    }\n",
    "]\n",
    "bounds = [(0, None)] * 3\n",
    "result = minimize(fun, np.ones(3), bounds=bounds, constraints=constrains)\n",
    "print(result['fun'])\n",
    "print(result['success'])\n",
    "print(result['x'])"
   ],
   "id": "4bbf24acce17d913",
   "outputs": [
    {
     "name": "stdout",
     "output_type": "stream",
     "text": [
      "10.651091840594646\n",
      "True\n",
      "[0.55216734 1.20325918 0.94782404]\n"
     ]
    }
   ],
   "execution_count": 13
  },
  {
   "metadata": {},
   "cell_type": "markdown",
   "source": "### 二次规划",
   "id": "8b009cc870c0c249"
  },
  {
   "metadata": {
    "ExecuteTime": {
     "end_time": "2024-09-03T13:29:33.879922Z",
     "start_time": "2024-09-03T13:29:33.865465Z"
    }
   },
   "cell_type": "code",
   "source": [
    "'''\n",
    "max x1 ** 2 + x2 ** 2 + 3 * x3 ** 2 + 4 * x4 ** 2 + 2 * x5 ** 2 - 8 * x1 - 2 * x2 - 3 * x3 - x4 - 2 * x5\n",
    "s.t.\n",
    "    x1 + x2 + x3 + x4 + x5 <= 400\n",
    "    x1 + 2 * x2 + 2 * x3 + x4 + 6 * x5 <= 800\n",
    "    2 * x1 + x2 + 6 * x3 <= 200\n",
    "    x3 + x4 + 5 * x5 <= 200\n",
    "    0 <= xi <= 99, i = 1, 2, 3, 4, 5\n",
    "'''\n",
    "from scipy.optimize import minimize\n",
    "import numpy as np\n",
    "c1 = np.array([1, 1, 3, 4, 2])\n",
    "c2 = np.array([-8, -2, -3, -1, -2])\n",
    "A = np.array([\n",
    "    [1, 1, 1, 1, 1],\n",
    "    [1, 2, 2, 1, 6],\n",
    "    [2, 1, 6, 0, 0],\n",
    "    [0, 0, 1, 1, 5],\n",
    "])\n",
    "b = np.array([400, 800, 200, 200])\n",
    "fun = lambda x: -c1 @ (x ** 2) - c2 @ x\n",
    "constrains = {\n",
    "    'type': 'ineq',\n",
    "    'fun': lambda x: b - A @ x,\n",
    "}\n",
    "bounds = [(0, 99) for i in range(c1.shape[0])]\n",
    "result = minimize(fun, np.ones(5), constraints=constrains, bounds=bounds)\n",
    "print(result['fun'])    # 最优值（局部）   可通过改变初始值尝试\n",
    "print(result['success'])    # 求解状态\n",
    "print(result['x'])    # 最优解"
   ],
   "id": "fd5fe54ae9089aa4",
   "outputs": [
    {
     "name": "stdout",
     "output_type": "stream",
     "text": [
      "-42677.568894812495\n",
      "True\n",
      "[0.00000000e+00 1.43988402e-12 3.33333334e+01 9.90000000e+01\n",
      " 1.35333333e+01]\n"
     ]
    }
   ],
   "execution_count": 14
  },
  {
   "metadata": {},
   "cell_type": "markdown",
   "source": "#### cvxopt 库",
   "id": "ec64468792c61150"
  },
  {
   "metadata": {
    "ExecuteTime": {
     "end_time": "2024-09-03T13:51:02.892523Z",
     "start_time": "2024-09-03T13:51:02.872548Z"
    }
   },
   "cell_type": "code",
   "source": [
    "'''\n",
    "min 1.5 * x1 ** 2 + x2 ** 2 + 0.85 * x3 ** 2 + 3 * x1 - 8.2 * x2 - 1.95 * x3\n",
    "s.t.\n",
    "    x1 + x3 <= 2\n",
    "    -x1 + 2 * x2 <= 2\n",
    "    x2 + 2 * x3 <= 3\n",
    "    x1 + x2 + x3 = 3\n",
    "'''\n",
    "import numpy as np\n",
    "from cvxopt import matrix, solvers\n",
    "H = matrix([\n",
    "    [3., 0, 0],     # 注意添加小数点，以保持数据类型一致\n",
    "    [0, 2., 0],\n",
    "    [0, 0, 1.7]\n",
    "])\n",
    "c = matrix([3., -8.2, -1.95])\n",
    "A_ub = matrix([\n",
    "    [1., 0, 1],\n",
    "    [-1, 2, 0],\n",
    "    [0, 1, 2],\n",
    "])\n",
    "b_ub = matrix([2., 2, 3])\n",
    "A_eq = matrix(1., (1, 3))\n",
    "b_eq = matrix(3.)\n",
    "sol = solvers.qp(H, c, A_ub, b_ub, A_eq, b_eq)\n",
    "print(sol['x'])    # 最优解\n",
    "print(sol['primal objective'])    # 最优值"
   ],
   "id": "ba56edc514ab4b40",
   "outputs": [
    {
     "name": "stdout",
     "output_type": "stream",
     "text": [
      "     pcost       dcost       gap    pres   dres\n",
      " 0: -1.3148e+01 -4.4315e+00  1e+01  1e+00  9e-01\n",
      " 1: -6.4674e+00 -7.5675e+00  1e+00  1e-16  2e-16\n",
      " 2: -7.1538e+00 -7.1854e+00  3e-02  0e+00  7e-16\n",
      " 3: -7.1758e+00 -7.1761e+00  3e-04  1e-16  1e-15\n",
      " 4: -7.1760e+00 -7.1760e+00  3e-06  1e-16  7e-16\n",
      "Optimal solution found.\n",
      "[ 8.00e-01]\n",
      "[ 1.40e+00]\n",
      "[ 8.00e-01]\n",
      "\n",
      "-7.175997768777275\n"
     ]
    }
   ],
   "execution_count": 20
  },
  {
   "metadata": {},
   "cell_type": "code",
   "outputs": [],
   "execution_count": null,
   "source": "",
   "id": "294c3e984256ff0f"
  }
 ],
 "metadata": {
  "kernelspec": {
   "display_name": "Python 3",
   "language": "python",
   "name": "python3"
  },
  "language_info": {
   "codemirror_mode": {
    "name": "ipython",
    "version": 2
   },
   "file_extension": ".py",
   "mimetype": "text/x-python",
   "name": "python",
   "nbconvert_exporter": "python",
   "pygments_lexer": "ipython2",
   "version": "2.7.6"
  }
 },
 "nbformat": 4,
 "nbformat_minor": 5
}
